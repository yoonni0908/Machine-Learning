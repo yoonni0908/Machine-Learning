{
 "cells": [
  {
   "cell_type": "code",
   "execution_count": 2,
   "id": "ba995984",
   "metadata": {},
   "outputs": [
    {
     "name": "stdout",
     "output_type": "stream",
     "text": [
      "Requirement already satisfied: IPython in c:\\users\\yoonn\\anaconda3\\lib\\site-packages (7.31.1)\n",
      "Requirement already satisfied: decorator in c:\\users\\yoonn\\anaconda3\\lib\\site-packages (from IPython) (5.1.1)\n",
      "Requirement already satisfied: jedi>=0.16 in c:\\users\\yoonn\\anaconda3\\lib\\site-packages (from IPython) (0.18.1)\n",
      "Requirement already satisfied: colorama in c:\\users\\yoonn\\anaconda3\\lib\\site-packages (from IPython) (0.4.5)\n",
      "Requirement already satisfied: matplotlib-inline in c:\\users\\yoonn\\anaconda3\\lib\\site-packages (from IPython) (0.1.2)\n",
      "Requirement already satisfied: traitlets>=4.2 in c:\\users\\yoonn\\anaconda3\\lib\\site-packages (from IPython) (5.1.1)\n",
      "Requirement already satisfied: prompt-toolkit!=3.0.0,!=3.0.1,<3.1.0,>=2.0.0 in c:\\users\\yoonn\\anaconda3\\lib\\site-packages (from IPython) (3.0.20)\n",
      "Requirement already satisfied: pickleshare in c:\\users\\yoonn\\anaconda3\\lib\\site-packages (from IPython) (0.7.5)\n",
      "Requirement already satisfied: setuptools>=18.5 in c:\\users\\yoonn\\anaconda3\\lib\\site-packages (from IPython) (65.2.0)\n",
      "Requirement already satisfied: backcall in c:\\users\\yoonn\\anaconda3\\lib\\site-packages (from IPython) (0.2.0)\n",
      "Requirement already satisfied: pygments in c:\\users\\yoonn\\anaconda3\\lib\\site-packages (from IPython) (2.11.2)\n",
      "Requirement already satisfied: parso<0.9.0,>=0.8.0 in c:\\users\\yoonn\\anaconda3\\lib\\site-packages (from jedi>=0.16->IPython) (0.8.3)\n",
      "Requirement already satisfied: wcwidth in c:\\users\\yoonn\\anaconda3\\lib\\site-packages (from prompt-toolkit!=3.0.0,!=3.0.1,<3.1.0,>=2.0.0->IPython) (0.2.5)\n"
     ]
    },
    {
     "name": "stderr",
     "output_type": "stream",
     "text": [
      "WARNING: Error parsing requirements for google-pasta: [Errno 2] No such file or directory: 'c:\\\\users\\\\yoonn\\\\anaconda3\\\\lib\\\\site-packages\\\\google_pasta-0.2.0.dist-info\\\\METADATA'\n"
     ]
    }
   ],
   "source": [
    "!pip install IPython"
   ]
  },
  {
   "cell_type": "code",
   "execution_count": 3,
   "id": "6712c8f8",
   "metadata": {},
   "outputs": [],
   "source": [
    "from IPython.display import Image"
   ]
  },
  {
   "cell_type": "markdown",
   "id": "8c2a878d",
   "metadata": {},
   "source": [
    "## 다운로드 과정 \n",
    "##### AI hub 사이트 -> \"대규모 웹데이터 기반 한국어 말뭉치\" 검색 -> 밑에 사진과 같이 선택하여 원하는 파일에 다운로드\n",
    "Image(\"다운로드과정.png\")"
   ]
  },
  {
   "cell_type": "code",
   "execution_count": 1,
   "id": "e1d7eda3",
   "metadata": {},
   "outputs": [],
   "source": [
    "import json\n",
    "\n",
    "#파일이 여러개면 전체를 반복문으로 감싸기\n",
    "\n",
    "#최종 process data 저장 => 한꺼번에 저장\n",
    "preprocessed_data = []\n",
    "\n",
    "#파일 열기\n",
    "#각 도메인별 10개의 json파일 약 100개씩 데이터 추출\n",
    "for i in range(71, 81):\n",
    "    with open(\"202014182_박상윤/정치/BWPO2170000448\"+str(i)+\".json\", 'r', encoding='utf-8') as f:\n",
    "        json_data = json.load(f)\n",
    "        \n",
    "        #json data에서 text추출\n",
    "        text_data = json_data[\"SJML\"][\"text\"]\n",
    "    \n",
    "        #개별 text에서 각각의 content추출=>\".\"으로 나눈 후 처음 문장을 current_data로 저장(.모두 생략됨)\n",
    "        for text in text_data:\n",
    "            data_candidates = text[\"content\"].split(\".\")\n",
    "         \n",
    "            #찾고자 하는 문장\n",
    "            sentence = \"\"\n",
    "        \n",
    "            #데이터에서 앞뒤 공백 제거=>'.'만 있거나(길이가 0), '다'로 끝나는 것은 invalid data\n",
    "            for data in data_candidates:\n",
    "                data = data.strip()\n",
    "                \n",
    "                if len(data) != 0 and data[-1] == \"다\":\n",
    "                    sentence = data\n",
    "                 \n",
    "                    break\n",
    "            \n",
    "            #문장의 단어 배열 - 띄어쓰기로 구분\n",
    "            words = sentence.split(\" \")\n",
    "        \n",
    "            #전체 띄어쓰기 제거\n",
    "            sentence = sentence.replace(\" \", \"\")\n",
    "            #모든 음절에 띄어쓰기 \" \" 추가\n",
    "            sentence = \" \".join(sentence)\n",
    "            # 맨 뒤에 \".\" tab 추가 (split에 의해 \".\"이 생략 되었으므로)\n",
    "            sentence = sentence+\".\\t\"\n",
    "    \n",
    "            for word in words:\n",
    "                sentence = sentence+\"B \"\n",
    "                sentence = sentence+\"I \"*(len(word)-1)\n",
    "            \n",
    "            #마지막 \".\"에 해당하는 I와 enter append(split에 의해 \".\"이 생략 되었으므로)\n",
    "            sentence = sentence+\"I\\n\"\n",
    "            #데이터 배열에 추가 \n",
    "            preprocessed_data.append(sentence)\n",
    "        \n",
    "    #file에 쓰기 \n",
    "    with open(\"spacing_text9.txt\", \"a\") as f:\n",
    "        f.writelines(preprocessed_data)\n",
    "        "
   ]
  },
  {
   "cell_type": "code",
   "execution_count": 13,
   "id": "636f6da0",
   "metadata": {},
   "outputs": [
    {
     "ename": "TypeError",
     "evalue": "expected str, bytes or os.PathLike object, not ellipsis",
     "output_type": "error",
     "traceback": [
      "\u001b[1;31m---------------------------------------------------------------------------\u001b[0m",
      "\u001b[1;31mTypeError\u001b[0m                                 Traceback (most recent call last)",
      "\u001b[1;32m~\\AppData\\Local\\Temp\\ipykernel_13624\\1151820854.py\u001b[0m in \u001b[0;36m<module>\u001b[1;34m\u001b[0m\n\u001b[0;32m      3\u001b[0m \u001b[1;32mwith\u001b[0m \u001b[0mopen\u001b[0m\u001b[1;33m(\u001b[0m\u001b[1;34m'spacing_text.txt'\u001b[0m\u001b[1;33m,\u001b[0m \u001b[1;34m'w'\u001b[0m\u001b[1;33m)\u001b[0m \u001b[1;32mas\u001b[0m \u001b[0moutfile\u001b[0m\u001b[1;33m:\u001b[0m\u001b[1;33m\u001b[0m\u001b[1;33m\u001b[0m\u001b[0m\n\u001b[0;32m      4\u001b[0m     \u001b[1;32mfor\u001b[0m \u001b[0mfilename\u001b[0m \u001b[1;32min\u001b[0m \u001b[0mfilenames\u001b[0m\u001b[1;33m:\u001b[0m\u001b[1;33m\u001b[0m\u001b[1;33m\u001b[0m\u001b[0m\n\u001b[1;32m----> 5\u001b[1;33m         \u001b[1;32mwith\u001b[0m \u001b[0mopen\u001b[0m\u001b[1;33m(\u001b[0m\u001b[0mfilename\u001b[0m\u001b[1;33m)\u001b[0m \u001b[1;32mas\u001b[0m \u001b[0mfile\u001b[0m\u001b[1;33m:\u001b[0m\u001b[1;33m\u001b[0m\u001b[1;33m\u001b[0m\u001b[0m\n\u001b[0m\u001b[0;32m      6\u001b[0m             \u001b[1;32mfor\u001b[0m \u001b[0mline\u001b[0m \u001b[1;32min\u001b[0m \u001b[0mfile\u001b[0m\u001b[1;33m:\u001b[0m\u001b[1;33m\u001b[0m\u001b[1;33m\u001b[0m\u001b[0m\n\u001b[0;32m      7\u001b[0m                 \u001b[0moutfile\u001b[0m\u001b[1;33m.\u001b[0m\u001b[0mwrite\u001b[0m\u001b[1;33m(\u001b[0m\u001b[0mline\u001b[0m\u001b[1;33m)\u001b[0m\u001b[1;33m\u001b[0m\u001b[1;33m\u001b[0m\u001b[0m\n",
      "\u001b[1;31mTypeError\u001b[0m: expected str, bytes or os.PathLike object, not ellipsis"
     ]
    }
   ],
   "source": [
    "#10개의 txt파일을 하나의 txt파일로 병합\n",
    "filenames = ['spacing_text1.txt', 'spacing_text2.txt', 'spacing_text3.txt', ...]\n",
    "\n",
    "with open('spacing_text.txt', 'w') as outfile:\n",
    "    for filename in filenames:\n",
    "        with open(filename) as file:\n",
    "            for line in file:\n",
    "                outfile.write(line)\n"
   ]
  },
  {
   "cell_type": "code",
   "execution_count": null,
   "id": "1e20611c",
   "metadata": {},
   "outputs": [],
   "source": []
  }
 ],
 "metadata": {
  "kernelspec": {
   "display_name": "Python 3 (ipykernel)",
   "language": "python",
   "name": "python3"
  },
  "language_info": {
   "codemirror_mode": {
    "name": "ipython",
    "version": 3
   },
   "file_extension": ".py",
   "mimetype": "text/x-python",
   "name": "python",
   "nbconvert_exporter": "python",
   "pygments_lexer": "ipython3",
   "version": "3.7.13"
  }
 },
 "nbformat": 4,
 "nbformat_minor": 5
}
