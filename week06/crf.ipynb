{
  "nbformat": 4,
  "nbformat_minor": 0,
  "metadata": {
    "colab": {
      "provenance": [],
      "collapsed_sections": []
    },
    "kernelspec": {
      "name": "python3",
      "display_name": "Python 3"
    }
  },
  "cells": [
    {
      "cell_type": "markdown",
      "metadata": {
        "id": "YYKwldBwVXIW"
      },
      "source": [
        "<h2>개인 구글 드라이브와 colab 연동 </h2>"
      ]
    },
    {
      "cell_type": "code",
      "metadata": {
        "id": "5o0lh-JLURY7",
        "colab": {
          "base_uri": "https://localhost:8080/"
        },
        "outputId": "d97b04ca-93aa-4057-f10c-78fab7c97145"
      },
      "source": [
        "from google.colab import drive\n",
        "drive.mount(\"/gdrive\", force_remount=True)"
      ],
      "execution_count": null,
      "outputs": [
        {
          "output_type": "stream",
          "name": "stdout",
          "text": [
            "Mounted at /gdrive\n"
          ]
        }
      ]
    },
    {
      "cell_type": "markdown",
      "metadata": {
        "id": "junjuA4pVM5n"
      },
      "source": [
        "<h2>라이브러리 설치 </h2>"
      ]
    },
    {
      "cell_type": "code",
      "metadata": {
        "id": "WwzrDnJYmV3Z",
        "colab": {
          "base_uri": "https://localhost:8080/"
        },
        "outputId": "3f1ffa1b-521d-41e9-94ad-51c6065afa97"
      },
      "source": [
        "!pip install scikit-learn==0.23.1\n",
        "!pip install sklearn-crfsuite #CRFs 라이브러리 설치\n"
      ],
      "execution_count": null,
      "outputs": [
        {
          "output_type": "stream",
          "name": "stdout",
          "text": [
            "Looking in indexes: https://pypi.org/simple, https://us-python.pkg.dev/colab-wheels/public/simple/\n",
            "Requirement already satisfied: scikit-learn==0.23.1 in /usr/local/lib/python3.7/dist-packages (0.23.1)\n",
            "Requirement already satisfied: numpy>=1.13.3 in /usr/local/lib/python3.7/dist-packages (from scikit-learn==0.23.1) (1.21.6)\n",
            "Requirement already satisfied: scipy>=0.19.1 in /usr/local/lib/python3.7/dist-packages (from scikit-learn==0.23.1) (1.7.3)\n",
            "Requirement already satisfied: threadpoolctl>=2.0.0 in /usr/local/lib/python3.7/dist-packages (from scikit-learn==0.23.1) (3.1.0)\n",
            "Requirement already satisfied: joblib>=0.11 in /usr/local/lib/python3.7/dist-packages (from scikit-learn==0.23.1) (1.2.0)\n",
            "Looking in indexes: https://pypi.org/simple, https://us-python.pkg.dev/colab-wheels/public/simple/\n",
            "Requirement already satisfied: sklearn-crfsuite in /usr/local/lib/python3.7/dist-packages (0.3.6)\n",
            "Requirement already satisfied: python-crfsuite>=0.8.3 in /usr/local/lib/python3.7/dist-packages (from sklearn-crfsuite) (0.9.8)\n",
            "Requirement already satisfied: six in /usr/local/lib/python3.7/dist-packages (from sklearn-crfsuite) (1.15.0)\n",
            "Requirement already satisfied: tabulate in /usr/local/lib/python3.7/dist-packages (from sklearn-crfsuite) (0.8.10)\n",
            "Requirement already satisfied: tqdm>=2.0 in /usr/local/lib/python3.7/dist-packages (from sklearn-crfsuite) (4.64.1)\n"
          ]
        }
      ]
    },
    {
      "cell_type": "markdown",
      "metadata": {
        "id": "kUf7YKTATa8G"
      },
      "source": [
        "<pre>\n",
        "<h2> 1. \"spacing_data.txt\"로 부터 데이터를 읽고 datas에 저장 </h2>\n",
        "  1.1 입력 데이터 형태\n",
        "    예시) 나 는 사 과 가 좋 아 \\t B I B I I B I\n",
        "    \n",
        "    \"나는 사과가 좋아\" 라는 문장이 있을 때, 공백을 기준으로 나눈 \"나는\", \"사과가\", \"좋아\"를 각각 어절이라고 함\n",
        "    각 어절의 시작음절을 \"B\"로 나머지를 \"I\"로 태깅하였고 문장과 라벨을 \\t으로 구분해놓은 상태\n",
        "\n",
        "  1.2 데이터 변환\n",
        "\n",
        "    입력 데이터를 읽고 탭을 기준으로 문장과 라벨을 분리\n",
        "    문장을 공백을 기준으로 나눈다\n",
        "      예시)\"나 는 사 과 가 좋 아\" -> [\"나\", \"는\", \"사\", \"과\", \"가\", \"좋\", \"아\"]\n",
        "    문장과 라벨을 튜플형태로 datas 리스트에 넣는다\n",
        "    datas = [ ( [\"나\", \"는\", \"사\", \"과\", \"가\", \"좋\", \"아\"], [\"B\", \"I\", \"B\", \"I\", \"I\", \"B\", \"I\"] ), ( ... ), ... ]\n",
        "    \n",
        "<h2> 2. 전체 데이터를 9:1 비율에 맞추어 학습, 평가 데이터로 나누기 </h2>\n",
        "  2.1 train_datas 리스트와 test_datas 리스트에 나누어 저장\n",
        "</pre>"
      ]
    },
    {
      "cell_type": "code",
      "metadata": {
        "id": "0VJD-PF6dYfb",
        "colab": {
          "base_uri": "https://localhost:8080/"
        },
        "outputId": "e3ef4673-6556-498d-9718-61b8b8ff9977"
      },
      "source": [
        "import os\n",
        "import sklearn_crfsuite\n",
        "from sklearn_crfsuite import metrics\n",
        "\n",
        "\n",
        "# 파일 경로\n",
        "file_path = \"/gdrive/My Drive/colab/crf/spacing_text.txt\"\n",
        "\n",
        "# \"spacing_data.txt\" 파일을 읽고 lines에 읽은 데이터를 저장\n",
        "with open(file_path, \"r\", encoding = \"cp949\") as inFile:\n",
        "    lines = inFile.readlines()\n",
        "\n",
        "# 데이터를 음절로 이루어진 문장과 정답 값으로 나누어 저장\n",
        "datas = []\n",
        "for line in lines:\n",
        "  pieces = line.strip().split('\\t')\n",
        "  eumjeol_sequence, label = pieces[0].split(), pieces[1].split() #split은 음절로 나눔\n",
        "  datas.append((eumjeol_sequence, label)) # [(_, _), (_, _)...]\n",
        "    \n",
        "number_of_train_datas = int(len(datas)*0.9)\n",
        "\n",
        "train_datas = datas[:number_of_train_datas]\n",
        "test_datas = datas[number_of_train_datas:]\n",
        "          \n",
        "print(\"train_datas 개수 : \" + str(len(train_datas)))          \n",
        "print(\"test_datas 개수 : \" + str(len(test_datas)))"
      ],
      "execution_count": null,
      "outputs": [
        {
          "output_type": "stream",
          "name": "stdout",
          "text": [
            "train_datas 개수 : 9833\n",
            "test_datas 개수 : 1093\n"
          ]
        }
      ]
    },
    {
      "cell_type": "markdown",
      "metadata": {
        "id": "SoVhuFogkT36"
      },
      "source": [
        "<pre>\n",
        "<h2> 1. 문장의 각 음절을 crf 모델의 입력으로 사용 할 수 있도록 자질화 </h2>\n",
        "  \"BOS\" : 시작 음절인지 여부\n",
        "  \"EOS\" : 마지막 음절인지 여부\n",
        "  \"WORD\" : 기준 음절\n",
        "  \"IS_DIGIT\" : 기준 음절이 숫자인지 여부\n",
        "  \"-1_WORD\" : 기준 음절의 왼쪽 첫번째 음절\n",
        "  \"-2_WORD\" : 기준 음절의 왼쪽 두번째 음절\n",
        "  \"+1_WORD\" : 기준 음절의 오른쪽 첫번째 음절\n",
        "  \"+2_WORD\" : 기준 음절의 오른쪽 두번째 음절\n",
        "\n",
        "  1.1 예시) [\"나\", \"는\", \"사\", \"과\", \"가\", \"좋\", \"아\"]\n",
        "            ->\n",
        "            [ { \"BOS\":True, \"EOS\":False, \"WORD\":\"나\", \"IS_DIGIT\":False, \"+1_WORD\":\"는\", \"+2_WORD\":\"사\" },\n",
        "    { \"BOS\":False, \"EOS\":False, \"WORD\":\"는\", \"IS_DIGIT\":False, \"-1_WORD\":\"나\", \"+1_WORD\":\"사\", \"+2_WORD\":\"과\" },\n",
        "    { \"BOS\":False, \"EOS\":False, \"WORD\":\"사\", \"IS_DIGIT\":False, \"-2_WORD\":\"나\", \"-1_WORD\":\"는\", \"+1_WORD\":\"과\", \"+2_WORD\":\"가\" }, ... ]\n",
        "    \n",
        "    나 -> { \"BOS\":True, \"EOS\":False, \"WORD\":\"나\", \"IS_DIGIT\":False, \"+1_WORD\":\"는\", \"+2_WORD\":\"사\" }\n",
        "    는 -> { \"BOS\":False, \"EOS\":False, \"WORD\":\"는\", \"IS_DIGIT\":False, \"-1_WORD\":\"나\", \"+1_WORD\":\"사\", \"+2_WORD\":\"과\" }\n",
        "    사 -> { \"BOS\":False, \"EOS\":False, \"WORD\":\"사\", \"IS_DIGIT\":False, \"-2_WORD\":\"나\", \"-1_WORD\":\"는\", \"+1_WORD\":\"과\", \"+2_WORD\":\"가\" }\n",
        "    과 -> { \"BOS\":False, \"EOS\":False, \"WORD\":\"과\", \"IS_DIGIT\":False, \"-2_WORD\":\"는\", \"-1_WORD\":\"사\", \"+1_WORD\":\"가\", \"+2_WORD\":\"좋\" }\n",
        "    가 -> { \"BOS\":False, \"EOS\":False, \"WORD\":\"가\", \"IS_DIGIT\":False, \"-2_WORD\":\"사\", \"-1_WORD\":\"과\", \"+1_WORD\":\"좋\", \"+2_WORD\":\"아\" }\n",
        "    좋 -> { \"BOS\":False, \"EOS\":False, \"WORD\":\"좋\", \"IS_DIGIT\":False, \"-2_WORD\":\"과\", \"-1_WORD\":\"가\", \"+1_WORD\":\"아\" }\n",
        "    아 -> { \"BOS\":False, \"EOS\":True, \"WORD\":\"아\", \"IS_DIGIT\":False, \"-2_WORD\":\"가\", \"-1_WORD\":\"좋\" }\n",
        "<h2> 2. 자질화한 데이터와 해당 데이터의 라벨을 분리하여 각 리스트에 저장 </h2>\n",
        "  학습 데이터 -> train_x(자질화한 데이터), train_y(각 데이터의 정답 라벨)에 저장\n",
        "  평가 데이터 -> test_x(자질화한 데이터), test_y(각 데이터의 정답 라벨)에 저장\n",
        "  \n",
        "  2.1 예시)\n",
        "    train_x -> [\n",
        "    \n",
        "    [ { \"BOS\":True, \"EOS\":False, \"WORD\":\"나\", \"IS_DIGIT\":False, \"+1_WORD\":\"는\", \"+2_WORD\":\"사\" },\n",
        "    { \"BOS\":False, \"EOS\":False, \"WORD\":\"는\", \"IS_DIGIT\":False, \"-1_WORD\":\"나\", \"+1_WORD\":\"사\", \"+2_WORD\":\"과\" },\n",
        "    { \"BOS\":False, \"EOS\":False, \"WORD\":\"사\", \"IS_DIGIT\":False, \"-2_WORD\":\"나\", \"-1_WORD\":\"는\", \"+1_WORD\":\"과\", \"+2_WORD\":\"가\" }, ... ],\n",
        "    \n",
        "    [ ... ],\n",
        "    \n",
        "    ...\n",
        "    \n",
        "    ]\n",
        "    \n",
        "    train_y -> [\n",
        "    \n",
        "    [ \"B\", \"I\", \"B\", \"I\", \"I\", \"B\", \"I\" ],\n",
        "    \n",
        "    [ ... ],\n",
        "    \n",
        "    ...\n",
        "    \n",
        "    \n",
        "    ]\n",
        "\n",
        "</pre>"
      ]
    },
    {
      "cell_type": "code",
      "metadata": {
        "id": "UHfwBbtqSgAx"
      },
      "source": [
        "def sent2feature(eumjeol_sequence): #observation probabilty 문제를 해결하는 함수\n",
        "  features = []\n",
        "  sequence_length = len(eumjeol_sequence)\n",
        "  for index, eumjeol in enumerate(eumjeol_sequence):\n",
        "      feature = { \"BOS\":False, \"EOS\":False, \"WORD\":eumjeol, \"IS_DIGIT\":eumjeol.isdigit() }\n",
        "\n",
        "      if(index == 0):\n",
        "        feature['BOS'] = True #맨 앞에 있으면 TRUE\n",
        "      elif(index == sequence_length-1):\n",
        "        feature[\"EOS\"] = True #맨 마지막에 있으면 TRUE\n",
        "\n",
        "      if(index-1 >= 0):\n",
        "        feature[\"-1_WORD\"] = eumjeol_sequence[index-1] #바로 앞\n",
        "      if(index-2 >= 0):\n",
        "        feature[\"-2_WORD\"] = eumjeol_sequence[index-2] #전전\n",
        "      if(index-3 >= 0):\n",
        "        feature[\"-3_WORD\"] = eumjeol_sequence[index-3]\n",
        "      \n",
        "\n",
        "      if(index+1 <= sequence_length-1):\n",
        "        feature[\"+1_WORD\"] = eumjeol_sequence[index+1] #바로 다음\n",
        "      if(index+2 <= sequence_length-1):\n",
        "        feature[\"+2_WORD\"] = eumjeol_sequence[index+2] #다음다음\n",
        "      if(index+3 <= sequence_length-1):\n",
        "        feature[\"+3_WORD\"] = eumjeol_sequence[index+3]\n",
        "\n",
        "      \n",
        "      features.append(feature)  #[{...}, {...}, ...]\n",
        "\n",
        "  return features\n",
        "  \n",
        " #데이터 생성 \n",
        "train_x, train_y = [], [] #train_x는 입력, train_y는 출력 -- 구분하기 위함\n",
        "for eumjeol_sequence, label in train_datas:\n",
        "    train_x.append(sent2feature(eumjeol_sequence))\n",
        "    train_y.append(label)\n",
        "\n",
        "test_x, test_y = [], []\n",
        "for eumjeol_sequence, label in test_datas:\n",
        "    test_x.append(sent2feature(eumjeol_sequence))\n",
        "    test_y.append(label)"
      ],
      "execution_count": null,
      "outputs": []
    },
    {
      "cell_type": "markdown",
      "metadata": {
        "id": "qYwRX9Vdn5-D"
      },
      "source": [
        "<h2> 1. train_x, train_y를 이용하여 crf 모델 학습 </h2>"
      ]
    },
    {
      "cell_type": "code",
      "metadata": {
        "id": "odbrhxSKStT-",
        "colab": {
          "base_uri": "https://localhost:8080/",
          "height": 373
        },
        "outputId": "c6bc2d7f-666a-4272-f248-fd781c130051"
      },
      "source": [
        "#crf = sklearn_crfsuite.CRF(\n",
        "#        algorithm='lbfgs',\n",
        "#        c1=0.1,\n",
        "#        c2=0.1,\n",
        "#        max_iterations=100,\n",
        "#        all_possible_transitions=True\n",
        "#    )\n",
        "crf = sklearn_crfsuite.CRF()\n",
        "crf.fit(train_x, train_y) \n",
        "#학습 잘 하면 성능을 끌어올릴 수 있음"
      ],
      "execution_count": null,
      "outputs": [
        {
          "output_type": "error",
          "ename": "ValueError",
          "evalue": "ignored",
          "traceback": [
            "\u001b[0;31m---------------------------------------------------------------------------\u001b[0m",
            "\u001b[0;31mValueError\u001b[0m                                Traceback (most recent call last)",
            "\u001b[0;32m<ipython-input-33-62abd273e3d6>\u001b[0m in \u001b[0;36m<module>\u001b[0;34m\u001b[0m\n\u001b[1;32m      7\u001b[0m \u001b[0;31m#    )\u001b[0m\u001b[0;34m\u001b[0m\u001b[0;34m\u001b[0m\u001b[0;34m\u001b[0m\u001b[0m\n\u001b[1;32m      8\u001b[0m \u001b[0mcrf\u001b[0m \u001b[0;34m=\u001b[0m \u001b[0msklearn_crfsuite\u001b[0m\u001b[0;34m.\u001b[0m\u001b[0mCRF\u001b[0m\u001b[0;34m(\u001b[0m\u001b[0;34m)\u001b[0m\u001b[0;34m\u001b[0m\u001b[0;34m\u001b[0m\u001b[0m\n\u001b[0;32m----> 9\u001b[0;31m \u001b[0mcrf\u001b[0m\u001b[0;34m.\u001b[0m\u001b[0mfit\u001b[0m\u001b[0;34m(\u001b[0m\u001b[0mtrain_x\u001b[0m\u001b[0;34m,\u001b[0m \u001b[0mtrain_y\u001b[0m\u001b[0;34m)\u001b[0m\u001b[0;34m\u001b[0m\u001b[0;34m\u001b[0m\u001b[0m\n\u001b[0m\u001b[1;32m     10\u001b[0m \u001b[0;31m#학습 잘 하면 성능을 끌어올릴 수 있음\u001b[0m\u001b[0;34m\u001b[0m\u001b[0;34m\u001b[0m\u001b[0;34m\u001b[0m\u001b[0m\n",
            "\u001b[0;32m/usr/local/lib/python3.7/dist-packages/sklearn_crfsuite/estimator.py\u001b[0m in \u001b[0;36mfit\u001b[0;34m(self, X, y, X_dev, y_dev)\u001b[0m\n\u001b[1;32m    312\u001b[0m \u001b[0;34m\u001b[0m\u001b[0m\n\u001b[1;32m    313\u001b[0m         \u001b[0;32mfor\u001b[0m \u001b[0mxseq\u001b[0m\u001b[0;34m,\u001b[0m \u001b[0myseq\u001b[0m \u001b[0;32min\u001b[0m \u001b[0mtrain_data\u001b[0m\u001b[0;34m:\u001b[0m\u001b[0;34m\u001b[0m\u001b[0;34m\u001b[0m\u001b[0m\n\u001b[0;32m--> 314\u001b[0;31m             \u001b[0mtrainer\u001b[0m\u001b[0;34m.\u001b[0m\u001b[0mappend\u001b[0m\u001b[0;34m(\u001b[0m\u001b[0mxseq\u001b[0m\u001b[0;34m,\u001b[0m \u001b[0myseq\u001b[0m\u001b[0;34m)\u001b[0m\u001b[0;34m\u001b[0m\u001b[0;34m\u001b[0m\u001b[0m\n\u001b[0m\u001b[1;32m    315\u001b[0m \u001b[0;34m\u001b[0m\u001b[0m\n\u001b[1;32m    316\u001b[0m         \u001b[0;32mif\u001b[0m \u001b[0mself\u001b[0m\u001b[0;34m.\u001b[0m\u001b[0mverbose\u001b[0m\u001b[0;34m:\u001b[0m\u001b[0;34m\u001b[0m\u001b[0;34m\u001b[0m\u001b[0m\n",
            "\u001b[0;32mpycrfsuite/_pycrfsuite.pyx\u001b[0m in \u001b[0;36mpycrfsuite._pycrfsuite.BaseTrainer.append\u001b[0;34m()\u001b[0m\n",
            "\u001b[0;31mValueError\u001b[0m: The numbers of items and labels differ: |x| = 69, |y| = 70"
          ]
        }
      ]
    },
    {
      "cell_type": "markdown",
      "metadata": {
        "id": "07BbK76nuZVK"
      },
      "source": [
        "<pre>\n",
        "<h2> 1. 학습한 모델을 test_x 데이터를 사용하여 평가 </h2>\n",
        "<h2> 2. 성능 측정 </h2>\n",
        "  2.1 metrics.flat_accuracy_score(x, y) 함수를 이용하여 성능 측정\n",
        "    metrics.flat_accuracy_score(x, y)\n",
        "  args\n",
        "    x : 실제 정답 라벨이 있는 리스트\n",
        "    y : 모델의 출력 라벨이 있는 리스트\n",
        "  return : \n",
        "    accuract 성능\n",
        "  \n",
        "<h2> 3. 모델의 출력 값과 정답 값을 이용하여 음절만으로 구성된 완전한 문장으로 변형 </h2>\n",
        "  3.1 test_datas, pred_y 예시\n",
        "    test_datas = [\n",
        "    ( [\"나\", \"는\", \"사\", \"과\", \"가\", \"좋\", \"아\"], [\"B\", \"I\", \"B\", \"I\", \"I\", \"B\", \"I\"] ),\n",
        "    \n",
        "    ( ... ),\n",
        "    \n",
        "    ...\n",
        "    \n",
        "    ]\n",
        "    \n",
        "    pred_y = [\n",
        "    \n",
        "    [\"B\", \"B\", \"B\", \"I\", \"I\", \"I\", \"I\"],\n",
        "    \n",
        "    [ ... ],\n",
        "    \n",
        "    ...\n",
        "    \n",
        "    ]\n",
        "    \n",
        "    위의 문장을 기준으로한 변형 예시\n",
        "    \n",
        "    \"나\", \"는\", \"사\", \"과\", \"가\", \"좋\", \"아\" -> 나는 사과가 좋아 (정답 기준으로 변형)\n",
        "    \"나\", \"는\", \"사\", \"과\", \"가\", \"좋\", \"아\" -> 나 는 사과가좋아 (모델 출력 기준으로 변형)\n",
        "  \n",
        "  3.2 최종 출력 예시\n",
        "  \n",
        "    정답 문장 : 1914- 18년의 전쟁은 인류를 통합시킨 최초의 공통분모였다.\n",
        "    출력 문장 : 19 14- 18년의 전쟁은 인류를 통합시킨 최초의 공통 분모였다.\n",
        "\n",
        "    정답 문장 : 하지만 이 전쟁은 죽음을 통해 인류를 통합시켰다.\n",
        "    출력 문장 : 하지만이 전쟁은 죽음을 통해 인류를 통합시켰다.\n",
        "\n",
        "    정답 문장 : 사라예보에서 한 세르비아인이 쏜 총 한발이 합스부르크가의 계승자를 죽였다.\n",
        "    출력 문장 : 사라 예보에서 한세르비아인이 쏜총한 발이 합스부르크가의 계승자를 죽였다.\n",
        "    \n",
        "    ...\n",
        "  \n",
        "  \n",
        "</pre>\n"
      ]
    },
    {
      "cell_type": "code",
      "metadata": {
        "id": "hgIPGK--SzmA",
        "colab": {
          "base_uri": "https://localhost:8080/",
          "height": 484
        },
        "outputId": "1de6a661-4e14-4166-c674-9b0f562462b3"
      },
      "source": [
        "#평가 함수 train->predict, test->fit\n",
        "def show_predict_result(test_datas, predict):\n",
        "  for index_1 in range(len(test_datas)):\n",
        "      eumjeol_sequence, correct_labels = test_datas[index_1] #정답을 gold label이라고 함\n",
        "      predict_labels = predict[index_1]\n",
        "     \n",
        "      correct_sentence, predict_sentence = \"\", \"\" #문자열 초기화\n",
        "      for index_2 in range(len(eumjeol_sequence)):# B가오면 space 넣고 I면 space안넣고 음절 넣고 붙임.\n",
        "          if(index_2 == 0): \n",
        "              correct_sentence += eumjeol_sequence[index_2]\n",
        "              predict_sentence += eumjeol_sequence[index_2]\n",
        "              continue\n",
        "\n",
        "          if(correct_labels[index_2] == \"B\"):\n",
        "              correct_sentence += \" \" #space 추가\n",
        "          correct_sentence += eumjeol_sequence[index_2] #space를 넣고 붙임\n",
        "\n",
        "          if (predict_labels[index_2] == \"B\"):\n",
        "              predict_sentence += \" \"\n",
        "          predict_sentence += eumjeol_sequence[index_2]\n",
        "\n",
        "      print(\"정답 문장 : \" + correct_sentence)\n",
        "      print(\"출력 문장 : \" + predict_sentence)\n",
        "      print()\n",
        "\n",
        "predict = crf.predict(test_x)\n",
        "\n",
        "#Accuracy 계산\n",
        "print(\"Accuracy score : \" + str(metrics.flat_accuracy_score(test_y, predict)))\n",
        "print()\n",
        "\n",
        "print(\"10개의 데이터에 대한 모델 출력과 실제 정답 비교\")\n",
        "print()\n",
        "\n",
        "show_predict_result(test_datas[:10], predict[:10])"
      ],
      "execution_count": null,
      "outputs": [
        {
          "output_type": "error",
          "ename": "ValueError",
          "evalue": "ignored",
          "traceback": [
            "\u001b[0;31m---------------------------------------------------------------------------\u001b[0m",
            "\u001b[0;31mValueError\u001b[0m                                Traceback (most recent call last)",
            "\u001b[0;32m<ipython-input-15-e0b28e1fa3cc>\u001b[0m in \u001b[0;36m<module>\u001b[0;34m\u001b[0m\n\u001b[1;32m     24\u001b[0m       \u001b[0mprint\u001b[0m\u001b[0;34m(\u001b[0m\u001b[0;34m)\u001b[0m\u001b[0;34m\u001b[0m\u001b[0;34m\u001b[0m\u001b[0m\n\u001b[1;32m     25\u001b[0m \u001b[0;34m\u001b[0m\u001b[0m\n\u001b[0;32m---> 26\u001b[0;31m \u001b[0mpredict\u001b[0m \u001b[0;34m=\u001b[0m \u001b[0mcrf\u001b[0m\u001b[0;34m.\u001b[0m\u001b[0mpredict\u001b[0m\u001b[0;34m(\u001b[0m\u001b[0mtest_x\u001b[0m\u001b[0;34m)\u001b[0m\u001b[0;34m\u001b[0m\u001b[0;34m\u001b[0m\u001b[0m\n\u001b[0m\u001b[1;32m     27\u001b[0m \u001b[0;34m\u001b[0m\u001b[0m\n\u001b[1;32m     28\u001b[0m \u001b[0;31m#Accuracy 계산\u001b[0m\u001b[0;34m\u001b[0m\u001b[0;34m\u001b[0m\u001b[0;34m\u001b[0m\u001b[0m\n",
            "\u001b[0;32m/usr/local/lib/python3.7/dist-packages/sklearn_crfsuite/estimator.py\u001b[0m in \u001b[0;36mpredict\u001b[0;34m(self, X)\u001b[0m\n\u001b[1;32m    348\u001b[0m \u001b[0;34m\u001b[0m\u001b[0m\n\u001b[1;32m    349\u001b[0m         \"\"\"\n\u001b[0;32m--> 350\u001b[0;31m         \u001b[0;32mreturn\u001b[0m \u001b[0mlist\u001b[0m\u001b[0;34m(\u001b[0m\u001b[0mmap\u001b[0m\u001b[0;34m(\u001b[0m\u001b[0mself\u001b[0m\u001b[0;34m.\u001b[0m\u001b[0mpredict_single\u001b[0m\u001b[0;34m,\u001b[0m \u001b[0mX\u001b[0m\u001b[0;34m)\u001b[0m\u001b[0;34m)\u001b[0m\u001b[0;34m\u001b[0m\u001b[0;34m\u001b[0m\u001b[0m\n\u001b[0m\u001b[1;32m    351\u001b[0m \u001b[0;34m\u001b[0m\u001b[0m\n\u001b[1;32m    352\u001b[0m     \u001b[0;32mdef\u001b[0m \u001b[0mpredict_single\u001b[0m\u001b[0;34m(\u001b[0m\u001b[0mself\u001b[0m\u001b[0;34m,\u001b[0m \u001b[0mxseq\u001b[0m\u001b[0;34m)\u001b[0m\u001b[0;34m:\u001b[0m\u001b[0;34m\u001b[0m\u001b[0;34m\u001b[0m\u001b[0m\n",
            "\u001b[0;32m/usr/local/lib/python3.7/dist-packages/sklearn_crfsuite/estimator.py\u001b[0m in \u001b[0;36mpredict_single\u001b[0;34m(self, xseq)\u001b[0m\n\u001b[1;32m    365\u001b[0m \u001b[0;34m\u001b[0m\u001b[0m\n\u001b[1;32m    366\u001b[0m         \"\"\"\n\u001b[0;32m--> 367\u001b[0;31m         \u001b[0;32mreturn\u001b[0m \u001b[0mself\u001b[0m\u001b[0;34m.\u001b[0m\u001b[0mtagger_\u001b[0m\u001b[0;34m.\u001b[0m\u001b[0mtag\u001b[0m\u001b[0;34m(\u001b[0m\u001b[0mxseq\u001b[0m\u001b[0;34m)\u001b[0m\u001b[0;34m\u001b[0m\u001b[0;34m\u001b[0m\u001b[0m\n\u001b[0m\u001b[1;32m    368\u001b[0m \u001b[0;34m\u001b[0m\u001b[0m\n\u001b[1;32m    369\u001b[0m     \u001b[0;32mdef\u001b[0m \u001b[0mpredict_marginals\u001b[0m\u001b[0;34m(\u001b[0m\u001b[0mself\u001b[0m\u001b[0;34m,\u001b[0m \u001b[0mX\u001b[0m\u001b[0;34m)\u001b[0m\u001b[0;34m:\u001b[0m\u001b[0;34m\u001b[0m\u001b[0;34m\u001b[0m\u001b[0m\n",
            "\u001b[0;32m/usr/local/lib/python3.7/dist-packages/sklearn_crfsuite/estimator.py\u001b[0m in \u001b[0;36mtagger_\u001b[0;34m(self)\u001b[0m\n\u001b[1;32m    426\u001b[0m \u001b[0;34m\u001b[0m\u001b[0m\n\u001b[1;32m    427\u001b[0m             \u001b[0mtagger\u001b[0m \u001b[0;34m=\u001b[0m \u001b[0mpycrfsuite\u001b[0m\u001b[0;34m.\u001b[0m\u001b[0mTagger\u001b[0m\u001b[0;34m(\u001b[0m\u001b[0;34m)\u001b[0m\u001b[0;34m\u001b[0m\u001b[0;34m\u001b[0m\u001b[0m\n\u001b[0;32m--> 428\u001b[0;31m             \u001b[0mtagger\u001b[0m\u001b[0;34m.\u001b[0m\u001b[0mopen\u001b[0m\u001b[0;34m(\u001b[0m\u001b[0mself\u001b[0m\u001b[0;34m.\u001b[0m\u001b[0mmodelfile\u001b[0m\u001b[0;34m.\u001b[0m\u001b[0mname\u001b[0m\u001b[0;34m)\u001b[0m\u001b[0;34m\u001b[0m\u001b[0;34m\u001b[0m\u001b[0m\n\u001b[0m\u001b[1;32m    429\u001b[0m             \u001b[0mself\u001b[0m\u001b[0;34m.\u001b[0m\u001b[0m_tagger\u001b[0m \u001b[0;34m=\u001b[0m \u001b[0mtagger\u001b[0m\u001b[0;34m\u001b[0m\u001b[0;34m\u001b[0m\u001b[0m\n\u001b[1;32m    430\u001b[0m             \u001b[0mself\u001b[0m\u001b[0;34m.\u001b[0m\u001b[0m_info_cached\u001b[0m \u001b[0;34m=\u001b[0m \u001b[0;32mNone\u001b[0m\u001b[0;34m\u001b[0m\u001b[0;34m\u001b[0m\u001b[0m\n",
            "\u001b[0;32mpycrfsuite/_pycrfsuite.pyx\u001b[0m in \u001b[0;36mpycrfsuite._pycrfsuite.Tagger.open\u001b[0;34m()\u001b[0m\n",
            "\u001b[0;32mpycrfsuite/_pycrfsuite.pyx\u001b[0m in \u001b[0;36mpycrfsuite._pycrfsuite.Tagger._check_model\u001b[0;34m()\u001b[0m\n",
            "\u001b[0;32mpycrfsuite/_pycrfsuite.pyx\u001b[0m in \u001b[0;36mpycrfsuite._pycrfsuite.Tagger._check_model\u001b[0;34m()\u001b[0m\n",
            "\u001b[0;31mValueError\u001b[0m: Invalid model file '/tmp/model1wa05_lk.crfsuite'"
          ]
        }
      ]
    },
    {
      "cell_type": "code",
      "metadata": {
        "id": "8AhEpssxTBzm"
      },
      "source": [],
      "execution_count": null,
      "outputs": []
    }
  ]
}