{
  "nbformat": 4,
  "nbformat_minor": 0,
  "metadata": {
    "colab": {
      "provenance": [],
      "collapsed_sections": []
    },
    "kernelspec": {
      "name": "python3",
      "display_name": "Python 3"
    }
  },
  "cells": [
    {
      "cell_type": "markdown",
      "metadata": {
        "id": "YYKwldBwVXIW"
      },
      "source": [
        "<h2>개인 구글 드라이브와 colab 연동 </h2>"
      ]
    },
    {
      "cell_type": "code",
      "metadata": {
        "id": "5o0lh-JLURY7",
        "colab": {
          "base_uri": "https://localhost:8080/"
        },
        "outputId": "b9144fb8-9f51-4aec-9e48-7c718115ad4a"
      },
      "source": [
        "from google.colab import drive\n",
        "drive.mount(\"/gdrive\", force_remount=True)"
      ],
      "execution_count": null,
      "outputs": [
        {
          "output_type": "stream",
          "name": "stdout",
          "text": [
            "Mounted at /gdrive\n"
          ]
        }
      ]
    },
    {
      "cell_type": "markdown",
      "metadata": {
        "id": "junjuA4pVM5n"
      },
      "source": [
        "<h2>라이브러리 설치 </h2>"
      ]
    },
    {
      "cell_type": "code",
      "metadata": {
        "id": "WwzrDnJYmV3Z",
        "colab": {
          "base_uri": "https://localhost:8080/"
        },
        "outputId": "94cb3e9c-6948-4be3-b28b-bbcf1920cbc6"
      },
      "source": [
        "!pip install hmmlearn"
      ],
      "execution_count": null,
      "outputs": [
        {
          "output_type": "stream",
          "name": "stdout",
          "text": [
            "Looking in indexes: https://pypi.org/simple, https://us-python.pkg.dev/colab-wheels/public/simple/\n",
            "Collecting hmmlearn\n",
            "  Downloading hmmlearn-0.2.8-cp37-cp37m-manylinux_2_5_x86_64.manylinux1_x86_64.whl (217 kB)\n",
            "\u001b[K     |████████████████████████████████| 217 kB 27.3 MB/s \n",
            "\u001b[?25hRequirement already satisfied: scipy>=0.19 in /usr/local/lib/python3.7/dist-packages (from hmmlearn) (1.7.3)\n",
            "Requirement already satisfied: numpy>=1.10 in /usr/local/lib/python3.7/dist-packages (from hmmlearn) (1.21.6)\n",
            "Requirement already satisfied: scikit-learn>=0.16 in /usr/local/lib/python3.7/dist-packages (from hmmlearn) (1.0.2)\n",
            "Requirement already satisfied: threadpoolctl>=2.0.0 in /usr/local/lib/python3.7/dist-packages (from scikit-learn>=0.16->hmmlearn) (3.1.0)\n",
            "Requirement already satisfied: joblib>=0.11 in /usr/local/lib/python3.7/dist-packages (from scikit-learn>=0.16->hmmlearn) (1.1.0)\n",
            "Installing collected packages: hmmlearn\n",
            "Successfully installed hmmlearn-0.2.8\n"
          ]
        }
      ]
    },
    {
      "cell_type": "code",
      "metadata": {
        "id": "0VJD-PF6dYfb",
        "colab": {
          "base_uri": "https://localhost:8080/"
        },
        "outputId": "7721d713-448d-401a-86c7-c04b2b57d330",
        "pycharm": {
          "name": "#%%\n"
        }
      },
      "source": [
        "import numpy as np\n",
        "from hmmlearn import hmm\n",
        "\n",
        "states = [\"Rainy\", \"Sunny\"] #state 설정\n",
        "n_states = len(states) #state 개수 \n",
        "\n",
        "observations = [\"Walk\", \"Shop\", \"Clean\"]\n",
        "n_observations = len(observations)\n",
        "\n",
        "# 시작 확률\n",
        "start_probability = np.array([0.6, 0.4])\n",
        "\n",
        "# 전이 확률\n",
        "transition_probability = np.array([\n",
        "    [0.7, 0.3],\n",
        "    [0.4, 0.6]\n",
        "])\n",
        "\n",
        "\n",
        "# 관측 확률\n",
        "emission_probability = np.array([ #원래는 training data으로부터 값을 얻어내야함\n",
        "  [0.1, 0.4, 0.5],\n",
        "  [0.6, 0.3, 0.1]\n",
        "])\n",
        "\n",
        "# 모델 만들기\n",
        "model = hmm.CategoricalHMM(n_components=n_states)\n",
        "\n",
        "# 여기를 채우세요.\n",
        "model.startprob_ = start_probability\n",
        "model.transmat_ = transition_probability\n",
        "model.emissionprob_ = emission_probability\n",
        "\n",
        "# 관측 입력\n",
        "input = [0, 0, 2, 1]\n",
        "\n",
        "# HMM 모델 호출\n",
        "hmm_input = np.atleast_2d(input).T #2차원 형태로 만듬\n",
        "logprob, sequence = model.decode(hmm_input)\n",
        "\n",
        "print(\"Input :\", \", \".join(map(lambda x: observations[x], input))) #lamda function\n",
        "print(\"Output:\", \", \".join(map(lambda x: states[x], sequence)))\n",
        "print(\"Prob. :\", logprob)"
      ],
      "execution_count": null,
      "outputs": [
        {
          "output_type": "stream",
          "name": "stdout",
          "text": [
            "Input : Walk, Walk, Clean, Shop\n",
            "Output: Sunny, Sunny, Rainy, Rainy\n",
            "Prob. : -5.331171191419115\n"
          ]
        }
      ]
    }
  ]
}