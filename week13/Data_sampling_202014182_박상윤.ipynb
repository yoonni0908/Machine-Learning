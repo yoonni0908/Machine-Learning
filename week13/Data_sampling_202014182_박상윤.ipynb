{
  "nbformat": 4,
  "nbformat_minor": 0,
  "metadata": {
    "colab": {
      "provenance": []
    },
    "kernelspec": {
      "name": "python3",
      "display_name": "Python 3"
    },
    "language_info": {
      "name": "python"
    }
  },
  "cells": [
    {
      "cell_type": "code",
      "execution_count": null,
      "metadata": {
        "id": "J834zuAdo6c5"
      },
      "outputs": [],
      "source": [
        "import os\n",
        "file_dir_path = './방송'\n",
        "file_names = os.listdir(file_dir_path)\n",
        "file_names\n",
        "\n",
        "i = 1\n",
        "for name in file_names:\n",
        "    before_name = os.path.join(file_dir_path, name)\n",
        "    after_name = str(i) + '.json'\n",
        "    after_name = os.path.join(file_dir_path, after_name)\n",
        "    os.rename(before_name, after_name)\n",
        "    i += 1"
      ]
    },
    {
      "cell_type": "code",
      "source": [
        "import json\n",
        "\n",
        "preprocessed_data = []\n",
        "\n",
        "fileName = \"방송/\"\n",
        "\n",
        "for i in range(1, 18):\n",
        "    with open(fileName + str(i) + \".json\", 'r', encoding='utf-8') as f1:\n",
        "        json_data = json.load(f1)\n",
        "        \n",
        "        text_data = json_data[\"SJML\"][\"text\"]\n",
        "        \n",
        "        \n",
        "        \n",
        "        for j in range(len(text_data)):\n",
        "            data_candidates = text_data[j][\"content\"]\n",
        "            \n",
        "            #다 띄어쓰기 해주기\n",
        "            data_candidates = \" \".join(data_candidates)\n",
        "\n",
        "            #띄어쓰기 한 부분에 <SP> 넣기\n",
        "            data_candidates = data_candidates.replace(\"  \", \" <SP>\")\n",
        "            \n",
        "            #길이가 20이상인것은 20이하로 자르기\n",
        "            if(len(data_candidates) > 20):\n",
        "                data_candidates = data_candidates[:20]\n",
        "            \n",
        "            #짝수번째 인것은 끝에 <\\S> 붙여주고 줄 바꿈\n",
        "            if (j%2==1):\n",
        "                preprocessed_data += data_candidates+\" </S>\\n\"\n",
        "                with open(\"sampling_data4.txt\", \"a\") as f2:\n",
        "                    f2.writelines(preprocessed_data)\n",
        "            #홀수번째 인것은 끝에 탭하기\n",
        "            else:\n",
        "                preprocessed_data = data_candidates +\"\\t\" "
      ],
      "metadata": {
        "id": "AY1tfwILpCxe"
      },
      "execution_count": null,
      "outputs": []
    },
    {
      "cell_type": "markdown",
      "source": [
        "![Untitled](https://s3-us-west-2.amazonaws.com/secure.notion-static.com/8e3ab209-dbb3-4900-bf91-5c0955d41545/Untitled.png)\n",
        "- 다운로드 과정\n",
        "\n",
        "데이터 다 다운 받은 후\n",
        "\n",
        "파일명을 숫자로 바꾸고  위에 코드와 같이 데이터 샘플링을 해주었음\n",
        "\n"
      ],
      "metadata": {
        "id": "2NxHJoUDpV2x"
      }
    }
  ]
}