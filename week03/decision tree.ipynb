{
  "nbformat": 4,
  "nbformat_minor": 0,
  "metadata": {
    "colab": {
      "provenance": [],
      "collapsed_sections": []
    },
    "kernelspec": {
      "name": "python3",
      "display_name": "Python 3"
    },
    "language_info": {
      "name": "python"
    }
  },
  "cells": [
    {
      "cell_type": "code",
      "metadata": {
        "id": "Sqk7wGdTOHPD",
        "colab": {
          "base_uri": "https://localhost:8080/"
        },
        "outputId": "5aaef62c-fdbb-4133-ccbd-0302937d6acd"
      },
      "source": [
        "from google.colab import drive\n",
        "drive.mount(\"/gdrive\", force_remount=True)"
      ],
      "execution_count": 13,
      "outputs": [
        {
          "output_type": "stream",
          "name": "stdout",
          "text": [
            "Mounted at /gdrive\n"
          ]
        }
      ]
    },
    {
      "cell_type": "code",
      "metadata": {
        "id": "YG51p4shPlaG",
        "colab": {
          "base_uri": "https://localhost:8080/"
        },
        "outputId": "012d5aa8-69d0-4b40-f389-ae5df650299c"
      },
      "source": [
        "import pandas as pd\n",
        "from sklearn.preprocessing import LabelEncoder\n",
        "from sklearn import tree\n",
        "import graphviz \n",
        "\n",
        "# 데이터 경로\n",
        "file_path = \"/gdrive/MyDrive/colab/dt/PlayTennis.csv\"\n",
        "# 데이터 경로로부터 파일을 읽음 (pandas 라이브러리 사용)\n",
        "datas = pd.read_csv(file_path) #csv에서 저장해서 읽음\n",
        "\n",
        "# 데이터 출력 (데이터 형태 확인)\n",
        "print(datas)"
      ],
      "execution_count": 14,
      "outputs": [
        {
          "output_type": "stream",
          "name": "stdout",
          "text": [
            "     outlook  temp humidity  windy  day      time play\n",
            "0      sunny   hot     high  False  Mon  14-38-53   no\n",
            "1      sunny   hot     high   True  Tue  10-17-12   no\n",
            "2   overcast   hot     high  False  Wed  09-27-42  yes\n",
            "3      rainy  mild     high  False  Sat  18-23-53  yes\n",
            "4      rainy  cool   normal  False  Sun  15-32-21  yes\n",
            "5      rainy  cool   normal   True  Thu  07-53-17   no\n",
            "6   overcast  cool   normal   True  Sat  17-31-28  yes\n",
            "7      sunny  mild     high  False  Mon  21-48-22   no\n",
            "8      sunny  cool   normal  False  Sun  11-24-32  yes\n",
            "9      rainy  mild   normal  False  Sat  16-15-34  yes\n",
            "10     sunny  mild   normal   True  Sun  19-32-43  yes\n",
            "11  overcast  mild     high   True  Fri  22-00-14  yes\n",
            "12  overcast   hot   normal  False  Sat  13-49-58  yes\n",
            "13     rainy  mild     high   True  Tue  12-29-11   no\n"
          ]
        }
      ]
    },
    {
      "cell_type": "code",
      "metadata": {
        "colab": {
          "base_uri": "https://localhost:8080/"
        },
        "id": "9xu43hd3YBEE",
        "outputId": "3cd63b5a-f22a-4599-929c-d4a85fb33785"
      },
      "source": [
        "# 범주형 데이터를 수치형 데이터로 자동 변환해주는 라이브러리\n",
        "label_encoder = LabelEncoder()\n",
        "\n",
        "# 정답 클래스 이름 (yes, no)\n",
        "target_names = label_encoder.fit(datas['play']).classes_\n",
        "print(\"target_names : {}\".format(target_names))\n",
        "\n",
        "datas['outlook'] = label_encoder.fit_transform(datas['outlook'])\n",
        "datas['temp'] = label_encoder.fit_transform(datas['temp'])\n",
        "datas['humidity'] = label_encoder.fit_transform(datas['humidity'])\n",
        "datas['windy'] = label_encoder.fit_transform(datas['windy'])\n",
        "datas['play'] = label_encoder.fit_transform(datas['play'])\n",
        "\n",
        "#요일을 평일과 주말로 나누어서 0과 1로 구분할 수 있도록 함\n",
        "datas.loc[datas.day == 'Sat', ('day')] = 'weekend'\n",
        "datas.loc[datas.day == 'Sun', ('day')] = 'weekend'\n",
        "datas.loc[datas.day != 'weekend', ('day')] = 'weekday'\n",
        "\n",
        "datas['day'] = label_encoder.fit_transform(datas['day'])\n",
        "\n",
        "#continuous feature을 엔트로피 측정을 위해 discrete feature로 변환\n",
        "#10:00 ~ 19:00 까지의 시간대는 good, 나머지는 bad\n",
        "time = pd.DataFrame(datas.time.str.split('-', 2).tolist(), columns=['hour', 'min', 'sec'])\n",
        "time = time.apply(pd.to_numeric)\n",
        "time['name'] = 0\n",
        "time.loc[time['hour'] <= 9, 'name'] = 'bad'\n",
        "time.loc[ (time['hour'] >= 19) & (time['min'] != 0) & (time['sec'] != 0), 'name'] = 'bad'\n",
        "time.loc[time['name'] != 'bad', 'name'] = 'good'\n",
        "\n",
        "datas['time'] = time['name']\n",
        "\n",
        "datas['time'] = label_encoder.fit_transform(datas['time'])\n",
        "\n",
        "# 데이터 출력 (데이터 포맷 변환 후 결과 확인)\n",
        "print(datas)"
      ],
      "execution_count": 15,
      "outputs": [
        {
          "output_type": "stream",
          "name": "stdout",
          "text": [
            "target_names : ['no' 'yes']\n",
            "    outlook  temp  humidity  windy  day  time  play\n",
            "0         2     1         0      0    0     1     0\n",
            "1         2     1         0      1    0     1     0\n",
            "2         0     1         0      0    0     0     1\n",
            "3         1     2         0      0    1     1     1\n",
            "4         1     0         1      0    1     1     1\n",
            "5         1     0         1      1    0     0     0\n",
            "6         0     0         1      1    1     1     1\n",
            "7         2     2         0      0    0     0     0\n",
            "8         2     0         1      0    1     1     1\n",
            "9         1     2         1      0    1     1     1\n",
            "10        2     2         1      1    1     0     1\n",
            "11        0     2         0      1    0     1     1\n",
            "12        0     1         1      0    1     1     1\n",
            "13        1     2         0      1    0     1     0\n"
          ]
        }
      ]
    },
    {
      "cell_type": "code",
      "metadata": {
        "id": "-jtuUVwyQCZc",
        "colab": {
          "base_uri": "https://localhost:8080/"
        },
        "outputId": "4bc625b5-d345-44f8-db64-754dcc779dd3"
      },
      "source": [
        "# 입력 데이터와 정답 데이터로 분리\n",
        "x_data, y_data = datas.drop(['play'], axis=1), datas['play'] #두번째 축을 기준으로 자름\n",
        "\n",
        "# 분리 결과 확인\n",
        "print(x_data)\n",
        "print()\n",
        "print(y_data)"
      ],
      "execution_count": 16,
      "outputs": [
        {
          "output_type": "stream",
          "name": "stdout",
          "text": [
            "    outlook  temp  humidity  windy  day  time\n",
            "0         2     1         0      0    0     1\n",
            "1         2     1         0      1    0     1\n",
            "2         0     1         0      0    0     0\n",
            "3         1     2         0      0    1     1\n",
            "4         1     0         1      0    1     1\n",
            "5         1     0         1      1    0     0\n",
            "6         0     0         1      1    1     1\n",
            "7         2     2         0      0    0     0\n",
            "8         2     0         1      0    1     1\n",
            "9         1     2         1      0    1     1\n",
            "10        2     2         1      1    1     0\n",
            "11        0     2         0      1    0     1\n",
            "12        0     1         1      0    1     1\n",
            "13        1     2         0      1    0     1\n",
            "\n",
            "0     0\n",
            "1     0\n",
            "2     1\n",
            "3     1\n",
            "4     1\n",
            "5     0\n",
            "6     1\n",
            "7     0\n",
            "8     1\n",
            "9     1\n",
            "10    1\n",
            "11    1\n",
            "12    1\n",
            "13    0\n",
            "Name: play, dtype: int64\n"
          ]
        }
      ]
    },
    {
      "cell_type": "code",
      "metadata": {
        "id": "K6hFTzgbYEtU"
      },
      "source": [
        "# Decision tree 모델 학습 ()\n",
        "decision_tree = tree.DecisionTreeClassifier(criterion = 'entropy') # entropy를 기준으로 tree를 구성\n",
        "train_result = decision_tree.fit(x_data, y_data)"
      ],
      "execution_count": 17,
      "outputs": []
    },
    {
      "cell_type": "code",
      "metadata": {
        "colab": {
          "base_uri": "https://localhost:8080/",
          "height": 439
        },
        "id": "RrLrZwJWYKnb",
        "outputId": "09e80df8-c68f-4bf1-f95f-188a8964638c"
      },
      "source": [
        "# 학습 결과 확인 (graphviz 라이브러리 사용)\n",
        "graph = graphviz.Source(tree.export_graphviz(train_result, out_file=None,\n",
        "                                             feature_names=x_data.columns,\n",
        "                                             class_names=target_names)) \n",
        "graph"
      ],
      "execution_count": 18,
      "outputs": [
        {
          "output_type": "execute_result",
          "data": {
            "text/plain": [
              "<graphviz.files.Source at 0x7fa6c725d890>"
            ],
            "image/svg+xml": "<?xml version=\"1.0\" encoding=\"UTF-8\" standalone=\"no\"?>\n<!DOCTYPE svg PUBLIC \"-//W3C//DTD SVG 1.1//EN\"\n \"http://www.w3.org/Graphics/SVG/1.1/DTD/svg11.dtd\">\n<!-- Generated by graphviz version 2.40.1 (20161225.0304)\n -->\n<!-- Title: Tree Pages: 1 -->\n<svg width=\"296pt\" height=\"314pt\"\n viewBox=\"0.00 0.00 296.00 314.00\" xmlns=\"http://www.w3.org/2000/svg\" xmlns:xlink=\"http://www.w3.org/1999/xlink\">\n<g id=\"graph0\" class=\"graph\" transform=\"scale(1 1) rotate(0) translate(4 310)\">\n<title>Tree</title>\n<polygon fill=\"#ffffff\" stroke=\"transparent\" points=\"-4,4 -4,-310 292,-310 292,4 -4,4\"/>\n<!-- 0 -->\n<g id=\"node1\" class=\"node\">\n<title>0</title>\n<polygon fill=\"none\" stroke=\"#000000\" points=\"228.5,-306 118.5,-306 118.5,-223 228.5,-223 228.5,-306\"/>\n<text text-anchor=\"middle\" x=\"173.5\" y=\"-290.8\" font-family=\"Helvetica,sans-Serif\" font-size=\"14.00\" fill=\"#000000\">day &lt;= 0.5</text>\n<text text-anchor=\"middle\" x=\"173.5\" y=\"-275.8\" font-family=\"Helvetica,sans-Serif\" font-size=\"14.00\" fill=\"#000000\">entropy = 0.94</text>\n<text text-anchor=\"middle\" x=\"173.5\" y=\"-260.8\" font-family=\"Helvetica,sans-Serif\" font-size=\"14.00\" fill=\"#000000\">samples = 14</text>\n<text text-anchor=\"middle\" x=\"173.5\" y=\"-245.8\" font-family=\"Helvetica,sans-Serif\" font-size=\"14.00\" fill=\"#000000\">value = [5, 9]</text>\n<text text-anchor=\"middle\" x=\"173.5\" y=\"-230.8\" font-family=\"Helvetica,sans-Serif\" font-size=\"14.00\" fill=\"#000000\">class = yes</text>\n</g>\n<!-- 1 -->\n<g id=\"node2\" class=\"node\">\n<title>1</title>\n<polygon fill=\"none\" stroke=\"#000000\" points=\"168.5,-187 50.5,-187 50.5,-104 168.5,-104 168.5,-187\"/>\n<text text-anchor=\"middle\" x=\"109.5\" y=\"-171.8\" font-family=\"Helvetica,sans-Serif\" font-size=\"14.00\" fill=\"#000000\">outlook &lt;= 0.5</text>\n<text text-anchor=\"middle\" x=\"109.5\" y=\"-156.8\" font-family=\"Helvetica,sans-Serif\" font-size=\"14.00\" fill=\"#000000\">entropy = 0.863</text>\n<text text-anchor=\"middle\" x=\"109.5\" y=\"-141.8\" font-family=\"Helvetica,sans-Serif\" font-size=\"14.00\" fill=\"#000000\">samples = 7</text>\n<text text-anchor=\"middle\" x=\"109.5\" y=\"-126.8\" font-family=\"Helvetica,sans-Serif\" font-size=\"14.00\" fill=\"#000000\">value = [5, 2]</text>\n<text text-anchor=\"middle\" x=\"109.5\" y=\"-111.8\" font-family=\"Helvetica,sans-Serif\" font-size=\"14.00\" fill=\"#000000\">class = no</text>\n</g>\n<!-- 0&#45;&gt;1 -->\n<g id=\"edge1\" class=\"edge\">\n<title>0&#45;&gt;1</title>\n<path fill=\"none\" stroke=\"#000000\" d=\"M151.1159,-222.8796C146.5144,-214.3236 141.6204,-205.2238 136.8658,-196.3833\"/>\n<polygon fill=\"#000000\" stroke=\"#000000\" points=\"139.7988,-194.4473 131.9796,-187.2981 133.6338,-197.763 139.7988,-194.4473\"/>\n<text text-anchor=\"middle\" x=\"124.7839\" y=\"-207.5401\" font-family=\"Helvetica,sans-Serif\" font-size=\"14.00\" fill=\"#000000\">True</text>\n</g>\n<!-- 4 -->\n<g id=\"node5\" class=\"node\">\n<title>4</title>\n<polygon fill=\"none\" stroke=\"#000000\" points=\"288,-179.5 187,-179.5 187,-111.5 288,-111.5 288,-179.5\"/>\n<text text-anchor=\"middle\" x=\"237.5\" y=\"-164.3\" font-family=\"Helvetica,sans-Serif\" font-size=\"14.00\" fill=\"#000000\">entropy = 0.0</text>\n<text text-anchor=\"middle\" x=\"237.5\" y=\"-149.3\" font-family=\"Helvetica,sans-Serif\" font-size=\"14.00\" fill=\"#000000\">samples = 7</text>\n<text text-anchor=\"middle\" x=\"237.5\" y=\"-134.3\" font-family=\"Helvetica,sans-Serif\" font-size=\"14.00\" fill=\"#000000\">value = [0, 7]</text>\n<text text-anchor=\"middle\" x=\"237.5\" y=\"-119.3\" font-family=\"Helvetica,sans-Serif\" font-size=\"14.00\" fill=\"#000000\">class = yes</text>\n</g>\n<!-- 0&#45;&gt;4 -->\n<g id=\"edge4\" class=\"edge\">\n<title>0&#45;&gt;4</title>\n<path fill=\"none\" stroke=\"#000000\" d=\"M195.8841,-222.8796C201.798,-211.8835 208.1949,-199.9893 214.158,-188.9015\"/>\n<polygon fill=\"#000000\" stroke=\"#000000\" points=\"217.3908,-190.2799 219.0449,-179.8149 211.2258,-186.9642 217.3908,-190.2799\"/>\n<text text-anchor=\"middle\" x=\"226.2406\" y=\"-200.057\" font-family=\"Helvetica,sans-Serif\" font-size=\"14.00\" fill=\"#000000\">False</text>\n</g>\n<!-- 2 -->\n<g id=\"node3\" class=\"node\">\n<title>2</title>\n<polygon fill=\"none\" stroke=\"#000000\" points=\"101,-68 0,-68 0,0 101,0 101,-68\"/>\n<text text-anchor=\"middle\" x=\"50.5\" y=\"-52.8\" font-family=\"Helvetica,sans-Serif\" font-size=\"14.00\" fill=\"#000000\">entropy = 0.0</text>\n<text text-anchor=\"middle\" x=\"50.5\" y=\"-37.8\" font-family=\"Helvetica,sans-Serif\" font-size=\"14.00\" fill=\"#000000\">samples = 2</text>\n<text text-anchor=\"middle\" x=\"50.5\" y=\"-22.8\" font-family=\"Helvetica,sans-Serif\" font-size=\"14.00\" fill=\"#000000\">value = [0, 2]</text>\n<text text-anchor=\"middle\" x=\"50.5\" y=\"-7.8\" font-family=\"Helvetica,sans-Serif\" font-size=\"14.00\" fill=\"#000000\">class = yes</text>\n</g>\n<!-- 1&#45;&gt;2 -->\n<g id=\"edge2\" class=\"edge\">\n<title>1&#45;&gt;2</title>\n<path fill=\"none\" stroke=\"#000000\" d=\"M87.5306,-103.9815C82.9105,-95.2504 78.0264,-86.0202 73.374,-77.2281\"/>\n<polygon fill=\"#000000\" stroke=\"#000000\" points=\"76.4013,-75.4655 68.6306,-68.2637 70.2141,-78.7395 76.4013,-75.4655\"/>\n</g>\n<!-- 3 -->\n<g id=\"node4\" class=\"node\">\n<title>3</title>\n<polygon fill=\"none\" stroke=\"#000000\" points=\"220,-68 119,-68 119,0 220,0 220,-68\"/>\n<text text-anchor=\"middle\" x=\"169.5\" y=\"-52.8\" font-family=\"Helvetica,sans-Serif\" font-size=\"14.00\" fill=\"#000000\">entropy = 0.0</text>\n<text text-anchor=\"middle\" x=\"169.5\" y=\"-37.8\" font-family=\"Helvetica,sans-Serif\" font-size=\"14.00\" fill=\"#000000\">samples = 5</text>\n<text text-anchor=\"middle\" x=\"169.5\" y=\"-22.8\" font-family=\"Helvetica,sans-Serif\" font-size=\"14.00\" fill=\"#000000\">value = [5, 0]</text>\n<text text-anchor=\"middle\" x=\"169.5\" y=\"-7.8\" font-family=\"Helvetica,sans-Serif\" font-size=\"14.00\" fill=\"#000000\">class = no</text>\n</g>\n<!-- 1&#45;&gt;3 -->\n<g id=\"edge3\" class=\"edge\">\n<title>1&#45;&gt;3</title>\n<path fill=\"none\" stroke=\"#000000\" d=\"M131.8418,-103.9815C136.5402,-95.2504 141.5071,-86.0202 146.2383,-77.2281\"/>\n<polygon fill=\"#000000\" stroke=\"#000000\" points=\"149.4056,-78.7282 151.0621,-68.2637 143.2414,-75.4111 149.4056,-78.7282\"/>\n</g>\n</g>\n</svg>\n"
          },
          "metadata": {},
          "execution_count": 18
        }
      ]
    },
    {
      "cell_type": "code",
      "metadata": {
        "colab": {
          "base_uri": "https://localhost:8080/"
        },
        "id": "mEFTasJ5Yaej",
        "outputId": "3ed94d57-d353-4754-b233-99a78bdbba58"
      },
      "source": [
        "# 학습한 모델을 사용하여 예측\n",
        "predict_result = decision_tree.predict(x_data)\n",
        "\n",
        "# 예측 결과 출력 (실제 정답을 맞춘 경우 True로 표시됨)\n",
        "print(predict_result == y_data)"
      ],
      "execution_count": 19,
      "outputs": [
        {
          "output_type": "stream",
          "name": "stdout",
          "text": [
            "0     True\n",
            "1     True\n",
            "2     True\n",
            "3     True\n",
            "4     True\n",
            "5     True\n",
            "6     True\n",
            "7     True\n",
            "8     True\n",
            "9     True\n",
            "10    True\n",
            "11    True\n",
            "12    True\n",
            "13    True\n",
            "Name: play, dtype: bool\n"
          ]
        }
      ]
    },
    {
      "cell_type": "code",
      "metadata": {
        "id": "b7gHteB5vVqM"
      },
      "source": [],
      "execution_count": null,
      "outputs": []
    }
  ]
}