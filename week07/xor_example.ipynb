{
 "nbformat": 4,
 "nbformat_minor": 0,
 "metadata": {
  "colab": {
   "name": "xor.ipynb",
   "provenance": [],
   "collapsed_sections": []
  },
  "kernelspec": {
   "name": "python3",
   "display_name": "Python 3"
  },
  "accelerator": "GPU"
 },
 "cells": [
  {
   "cell_type": "code",
   "metadata": {
    "id": "FdZnDI8azinw",
    "colab": {
     "base_uri": "https://localhost:8080/"
    },
    "executionInfo": {
     "status": "ok",
     "timestamp": 1629766174560,
     "user_tz": -540,
     "elapsed": 24817,
     "user": {
      "displayName": "Harksoo Kim",
      "photoUrl": "",
      "userId": "04506968767642445103"
     }
    },
    "outputId": "c9b79505-fd18-4d5c-b4f1-8113a60a540e"
   },
   "source": [
    "from google.colab import drive\n",
    "drive.mount(\"/gdrive\", force_remount=True)"
   ],
   "execution_count": 1,
   "outputs": [
    {
     "output_type": "stream",
     "text": [
      "Mounted at /gdrive\n"
     ],
     "name": "stdout"
    }
   ]
  },
  {
   "cell_type": "code",
   "metadata": {
    "id": "JBGiT1Qw_Qzo",
    "colab": {
     "base_uri": "https://localhost:8080/"
    },
    "executionInfo": {
     "status": "ok",
     "timestamp": 1629772509132,
     "user_tz": -540,
     "elapsed": 1917,
     "user": {
      "displayName": "Harksoo Kim",
      "photoUrl": "",
      "userId": "04506968767642445103"
     }
    },
    "outputId": "fbfd09a4-d556-442c-9f77-ef3cbec88b36"
   },
   "source": [
    "import numpy as np\n",
    "import torch\n",
    "import torch.nn as nn\n",
    "from sklearn.metrics import accuracy_score\n",
    "\n",
    "# 데이터 읽기 함수\n",
    "def load_dataset(file):\n",
    "  data = np.loadtxt(file)\n",
    "  print(\"DATA=\",data)\n",
    "  \n",
    "  input_features = data[:,0:-1]\n",
    "  print(\"X=\",input_features)\n",
    "  \n",
    "  labels = np.reshape(data[:,-1],(4,1))\n",
    "  print(\"Y=\",labels)\n",
    " \n",
    "  input_features = torch.tensor(input_features, dtype=torch.float)\n",
    "  labels = torch.tensor(labels, dtype=torch.float)\n",
    "\n",
    "  return (input_features, labels)\n",
    "\n",
    "# 모델 평가 결과 계산을 위해 텐서를 리스트로 변환하는 함수\n",
    "def tensor2list(input_tensor):\n",
    "    return input_tensor.cpu().detach().numpy().tolist()\n",
    "\n",
    "x, y = load_dataset(\"/gdrive/My Drive/colab/ann/xor1/train.txt\")\n",
    "\n",
    "# layer 1 가중치 초기화\n",
    "# 이곳을 완성하세요.\n",
    "\n",
    "print(\"\\n[Init]\\nw1 = {0}\".format(tensor2list(w1)))\n",
    "print(\"b1 = {0}\".format(tensor2list(b1)))\n",
    "\n",
    "# layer 2 가중치 초기화\n",
    "# 이곳을 완성하세요.\n",
    "\n",
    "print(\"w2 = {0}\".format(tensor2list(w2)))\n",
    "print(\"b2 = {0}\\n\".format(tensor2list(b2)))\n",
    "\n",
    "# Activation 함수 설정\n",
    "sigmoid = nn.Sigmoid()\n",
    "\n",
    "# 이진분류 크로스엔트로피 비용 함수 설정 \n",
    "loss_func = torch.nn.BCELoss()\n",
    "\n",
    "# 옵티마이저 함수 (역전파 알고리즘을 수행할 함수)\n",
    "optimizer = torch.optim.SGD([w1,b1,w2,b2],lr=0.2)\n",
    "\n",
    "# 모델 학습\n",
    "for epoch in range(1001):\n",
    "\n",
    "    # H(X) 계산: forward 연산\n",
    "    # 이곳을 완성하세요.\n",
    "\n",
    "    # 비용 계산\n",
    "    cost = loss_func(hx, y)\n",
    "    # 역전파 수행\n",
    "    cost.backward()\n",
    "    optimizer.step()\n",
    "\n",
    "    # 100 에폭마다 비용 출력\n",
    "    if epoch % 100 == 0:\n",
    "        print(epoch, cost.item())\n",
    "\n",
    "print(\"\\n[Learned]\\nw1 = {0}\".format(tensor2list(w1)))\n",
    "print(\"b1 = {0}\".format(tensor2list(b1)))\n",
    "print(\"w2 = {0}\".format(tensor2list(w2)))\n",
    "print(\"b2 = {0}\\n\".format(tensor2list(b2)))\n",
    "\n",
    "# 모델 평가\n",
    "# H(X) 계산: forward 연산\n",
    "# 이곳을 완성사에요.\n",
    "\n",
    "logits = (hx > 0.5).float()\n",
    "predicts = tensor2list(logits)\n",
    "golds = tensor2list(y)\n",
    "\n",
    "print(\"\\nPRED=\",predicts)\n",
    "print(\"GOLD=\",golds)\n",
    "print(\"Accuracy : {0:f}\".format(accuracy_score(golds, predicts)))"
   ],
   "execution_count": 74,
   "outputs": [
    {
     "output_type": "stream",
     "text": [
      "DATA= [[0. 0. 0.]\n",
      " [0. 1. 1.]\n",
      " [1. 0. 1.]\n",
      " [1. 1. 0.]]\n",
      "X= [[0. 0.]\n",
      " [0. 1.]\n",
      " [1. 0.]\n",
      " [1. 1.]]\n",
      "Y= [[0.]\n",
      " [1.]\n",
      " [1.]\n",
      " [0.]]\n",
      "\n",
      "[Init]\n",
      "w1 = [[-0.668328046798706, 0.5918465256690979], [-0.36511167883872986, -0.6000574827194214]]\n",
      "b1 = [-0.9711222052574158, 0.19410347938537598]\n",
      "w2 = [[1.1010056734085083], [-0.5973880290985107]]\n",
      "b2 = [0.16725173592567444]\n",
      "\n",
      "0 0.6972437500953674\n",
      "100 0.5807050466537476\n",
      "200 0.0013448626268655062\n",
      "300 0.00010562681563897058\n",
      "400 1.2934542610310018e-05\n",
      "500 1.4603181170969037e-06\n",
      "600 1.7881399116959074e-07\n",
      "700 2.9802322387695312e-08\n",
      "\n",
      "[Learned]\n",
      "w1 = [[-112.27774047851562, 102.93649291992188], [61.72703552246094, -104.60399627685547]]\n",
      "b1 = [101.88740539550781, 58.08322525024414]\n",
      "w2 = [[-139.24635314941406], [-70.98396301269531]]\n",
      "b2 = [155.9149169921875]\n",
      "\n",
      "\n",
      "PRED= [[0.0], [1.0], [1.0], [0.0]]\n",
      "GOLD= [[0.0], [1.0], [1.0], [0.0]]\n",
      "Accuracy : 1.000000\n"
     ],
     "name": "stdout"
    }
   ]
  }
 ]
}