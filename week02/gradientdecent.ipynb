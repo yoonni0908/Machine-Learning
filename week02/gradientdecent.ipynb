{
  "nbformat": 4,
  "nbformat_minor": 0,
  "metadata": {
    "colab": {
      "provenance": [],
      "collapsed_sections": []
    },
    "kernelspec": {
      "name": "python3",
      "display_name": "Python 3"
    },
    "accelerator": "GPU"
  },
  "cells": [
    {
      "cell_type": "code",
      "metadata": {
        "id": "FdZnDI8azinw",
        "colab": {
          "base_uri": "https://localhost:8080/"
        },
        "outputId": "e9f9d260-20dc-4709-82ad-3d0c9384fc6f"
      },
      "source": [
        "from google.colab import drive\n",
        "drive.mount(\"/gdrive\", force_remount=True)"
      ],
      "execution_count": 1,
      "outputs": [
        {
          "output_type": "stream",
          "name": "stdout",
          "text": [
            "Mounted at /gdrive\n"
          ]
        }
      ]
    },
    {
      "cell_type": "code",
      "metadata": {
        "id": "JBGiT1Qw_Qzo",
        "colab": {
          "base_uri": "https://localhost:8080/"
        },
        "outputId": "1e2f25b3-14bf-4011-9562-069d6dba92b3"
      },
      "source": [
        "import numpy as np\n",
        "import torch\n",
        "\n",
        "# 데이터 읽기 함수\n",
        "def load_dataset(file):\n",
        "\n",
        "  data = np.loadtxt(file)\n",
        "  print(\"DATA=\",data)\n",
        "  \n",
        "  x = data[:,0:-1]\n",
        "  print(\"X=\",x)\n",
        "  \n",
        "  y = np.reshape(data[:,-1],(3,1))\n",
        "  print(\"Y=\",y)\n",
        " \n",
        "  # 텐서로 변경\n",
        "  # 이곳을 채우세요.\n",
        "  x = torch.tensor(x, dtype = torch.float)\n",
        "  y = torch.tensor(y, dtype = torch.float)\n",
        "\n",
        "  return (x, y)\n",
        "\n",
        "# 텐서를 리스트로 바꾸는 함수\n",
        "def tensor2list(input_tensor):\n",
        "  return input_tensor.cpu().detach().numpy().tolist()\n",
        "\n",
        "x, y = load_dataset(\"/gdrive/My Drive/colab/gda/train.txt\")\n",
        "\n",
        "# 가중치 초기화\n",
        "w = torch.randn(1)*3.0\n",
        "print(\"\\nInit: w = {0}\\n\".format(tensor2list(w)))\n",
        "\n",
        "# 학습률\n",
        "alpha = 0.1\n",
        "\n",
        "# 학습데이터 수\n",
        "m = y.size(0)\n",
        "\n",
        "for epoch in range(50):\n",
        "  cost = 0  \n",
        "  for i in range(m):\n",
        "    # 이곳을 채우세요.\n",
        "    cost = cost + ((w * x[i]) - y[i]) * x[i]\n",
        "  # 이곳을 채우세요.\n",
        "  cost = 1/m * cost\n",
        "  w = w - alpha * cost\n",
        "  print(\"Epoch {0:d}: w = {1}\".format(epoch+1,tensor2list(w)))"
      ],
      "execution_count": 2,
      "outputs": [
        {
          "output_type": "stream",
          "name": "stdout",
          "text": [
            "DATA= [[1. 1.]\n",
            " [2. 2.]\n",
            " [3. 3.]]\n",
            "X= [[1.]\n",
            " [2.]\n",
            " [3.]]\n",
            "Y= [[1.]\n",
            " [2.]\n",
            " [3.]]\n",
            "\n",
            "Init: w = [-0.6278344392776489]\n",
            "\n",
            "Epoch 1: w = [0.13182169198989868]\n",
            "Epoch 2: w = [0.5369715690612793]\n",
            "Epoch 3: w = [0.7530515193939209]\n",
            "Epoch 4: w = [0.8682941198348999]\n",
            "Epoch 5: w = [0.9297568798065186]\n",
            "Epoch 6: w = [0.9625369906425476]\n",
            "Epoch 7: w = [0.980019748210907]\n",
            "Epoch 8: w = [0.9893438816070557]\n",
            "Epoch 9: w = [0.9943167567253113]\n",
            "Epoch 10: w = [0.9969689249992371]\n",
            "Epoch 11: w = [0.9983834028244019]\n",
            "Epoch 12: w = [0.999137818813324]\n",
            "Epoch 13: w = [0.9995401501655579]\n",
            "Epoch 14: w = [0.9997547268867493]\n",
            "Epoch 15: w = [0.999869167804718]\n",
            "Epoch 16: w = [0.999930202960968]\n",
            "Epoch 17: w = [0.9999627470970154]\n",
            "Epoch 18: w = [0.9999801516532898]\n",
            "Epoch 19: w = [0.99998939037323]\n",
            "Epoch 20: w = [0.9999943375587463]\n",
            "Epoch 21: w = [0.9999969601631165]\n",
            "Epoch 22: w = [0.9999983906745911]\n",
            "Epoch 23: w = [0.9999991655349731]\n",
            "Epoch 24: w = [0.9999995231628418]\n",
            "Epoch 25: w = [0.9999997615814209]\n",
            "Epoch 26: w = [0.9999998807907104]\n",
            "Epoch 27: w = [0.9999999403953552]\n",
            "Epoch 28: w = [1.0]\n",
            "Epoch 29: w = [1.0]\n",
            "Epoch 30: w = [1.0]\n",
            "Epoch 31: w = [1.0]\n",
            "Epoch 32: w = [1.0]\n",
            "Epoch 33: w = [1.0]\n",
            "Epoch 34: w = [1.0]\n",
            "Epoch 35: w = [1.0]\n",
            "Epoch 36: w = [1.0]\n",
            "Epoch 37: w = [1.0]\n",
            "Epoch 38: w = [1.0]\n",
            "Epoch 39: w = [1.0]\n",
            "Epoch 40: w = [1.0]\n",
            "Epoch 41: w = [1.0]\n",
            "Epoch 42: w = [1.0]\n",
            "Epoch 43: w = [1.0]\n",
            "Epoch 44: w = [1.0]\n",
            "Epoch 45: w = [1.0]\n",
            "Epoch 46: w = [1.0]\n",
            "Epoch 47: w = [1.0]\n",
            "Epoch 48: w = [1.0]\n",
            "Epoch 49: w = [1.0]\n",
            "Epoch 50: w = [1.0]\n"
          ]
        }
      ]
    }
  ]
}
