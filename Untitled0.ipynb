{
  "nbformat": 4,
  "nbformat_minor": 0,
  "metadata": {
    "colab": {
      "name": "Untitled0.ipynb",
      "provenance": [],
      "authorship_tag": "ABX9TyPrWrpXHI2JkW1bi99pGTYi",
      "include_colab_link": true
    },
    "kernelspec": {
      "name": "python3",
      "display_name": "Python 3"
    },
    "language_info": {
      "name": "python"
    }
  },
  "cells": [
    {
      "cell_type": "markdown",
      "metadata": {
        "id": "view-in-github",
        "colab_type": "text"
      },
      "source": [
        "<a href=\"https://colab.research.google.com/github/yoonni0908/Machine-Learning/blob/main/Untitled0.ipynb\" target=\"_parent\"><img src=\"https://colab.research.google.com/assets/colab-badge.svg\" alt=\"Open In Colab\"/></a>"
      ]
    },
    {
      "cell_type": "code",
      "execution_count": null,
      "metadata": {
        "colab": {
          "base_uri": "https://localhost:8080/"
        },
        "id": "fwnMOhZJEgw0",
        "outputId": "52caf9bc-bbe4-42cc-ddaa-179b5d0ab816"
      },
      "outputs": [
        {
          "output_type": "stream",
          "name": "stdout",
          "text": [
            "Mounted at /gdrive\n"
          ]
        }
      ],
      "source": [
        "from google.colab import drive\n",
        "drive.mount('/gdrive', force_remount=True)"
      ]
    },
    {
      "cell_type": "code",
      "source": [
        "file_path = \"/gdrive/My Drive/colab/실습예제1.txt\"\n",
        "\n",
        "with open(file_path, \"r\", encoding=\"utf8\") as inFile:\n",
        "  lines = inFile.readlines()\n",
        "\n",
        "  for line in lines:\n",
        "    print(line)"
      ],
      "metadata": {
        "id": "1VT48BoTFrof",
        "colab": {
          "base_uri": "https://localhost:8080/"
        },
        "outputId": "8a1a4622-0b57-479f-8261-b70111541027"
      },
      "execution_count": null,
      "outputs": [
        {
          "output_type": "stream",
          "name": "stdout",
          "text": [
            "/gdrive/My Drive -> 개인의 구글 드라이버 경로\n",
            "\n",
            "/gdrive/My Drive/colab -> 실습 폴더 경로\n",
            "\n",
            "\n",
            "\n",
            "다음 실습 시간부터 방금 했던 대로 파일을 업로드하여 사용하시면 됩니다.\n"
          ]
        }
      ]
    }
  ]
}